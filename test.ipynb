{
 "cells": [
  {
   "cell_type": "code",
   "execution_count": 1,
   "metadata": {},
   "outputs": [
    {
     "ename": "ModuleNotFoundError",
     "evalue": "No module named 'pptx'",
     "output_type": "error",
     "traceback": [
      "\u001b[0;31m---------------------------------------------------------------------------\u001b[0m",
      "\u001b[0;31mModuleNotFoundError\u001b[0m                       Traceback (most recent call last)",
      "Cell \u001b[0;32mIn[1], line 2\u001b[0m\n\u001b[1;32m      1\u001b[0m \u001b[38;5;28;01mimport\u001b[39;00m \u001b[38;5;21;01mmatplotlib\u001b[39;00m\u001b[38;5;21;01m.\u001b[39;00m\u001b[38;5;21;01mpyplot\u001b[39;00m \u001b[38;5;28;01mas\u001b[39;00m \u001b[38;5;21;01mplt\u001b[39;00m\n\u001b[0;32m----> 2\u001b[0m \u001b[38;5;28;01mfrom\u001b[39;00m \u001b[38;5;21;01mpptx\u001b[39;00m \u001b[38;5;28;01mimport\u001b[39;00m Presentation\n\u001b[1;32m      3\u001b[0m \u001b[38;5;28;01mfrom\u001b[39;00m \u001b[38;5;21;01mpptx\u001b[39;00m\u001b[38;5;21;01m.\u001b[39;00m\u001b[38;5;21;01mutil\u001b[39;00m \u001b[38;5;28;01mimport\u001b[39;00m Inches\n\u001b[1;32m      5\u001b[0m \u001b[38;5;66;03m# Step 1: Create a plot using matplotlib\u001b[39;00m\n",
      "\u001b[0;31mModuleNotFoundError\u001b[0m: No module named 'pptx'"
     ]
    }
   ],
   "source": [
    "import matplotlib.pyplot as plt\n",
    "from pptx import Presentation\n",
    "from pptx.util import Inches\n",
    "\n",
    "# Step 1: Create a plot using matplotlib\n",
    "plt.figure(figsize=(6, 4))\n",
    "plt.plot([1, 2, 3, 4], [1, 4, 9, 16])  # Sample plot\n",
    "plt.title('Sample Plot')\n",
    "plt.savefig('plot.png')  # Save the plot as an image\n",
    "plt.close()\n",
    "\n",
    "# Step 2: Create a PowerPoint presentation\n",
    "prs = Presentation()\n",
    "\n",
    "# PowerPoint slide dimensions (in inches)\n",
    "slide_width = prs.slide_width.inches\n",
    "slide_height = prs.slide_height.inches\n",
    "\n",
    "# Step 3: Add a blank slide to the presentation\n",
    "slide_layout = prs.slide_layouts[5]  # Use a blank slide layout\n",
    "slide = prs.slides.add_slide(slide_layout)\n",
    "\n",
    "# Step 4: Insert the plot image and adjust size to fit the slide\n",
    "left = Inches(0)  # Align to left border\n",
    "top = Inches(0)   # Align to top border\n",
    "height = Inches(slide_height)  # Fit to slide height\n",
    "width = Inches(slide_width)    # Fit to slide width\n",
    "\n",
    "# Add the image to the slide and set the size\n",
    "slide.shapes.add_picture('plot.png', left, top, width=width, height=height)\n",
    "\n",
    "# Step 5: Save the presentation\n",
    "prs.save('presentation.pptx')\n"
   ]
  },
  {
   "cell_type": "code",
   "execution_count": null,
   "metadata": {},
   "outputs": [],
   "source": []
  }
 ],
 "metadata": {
  "kernelspec": {
   "display_name": "Python 3",
   "language": "python",
   "name": "python3"
  },
  "language_info": {
   "codemirror_mode": {
    "name": "ipython",
    "version": 3
   },
   "file_extension": ".py",
   "mimetype": "text/x-python",
   "name": "python",
   "nbconvert_exporter": "python",
   "pygments_lexer": "ipython3",
   "version": "3.11.5"
  }
 },
 "nbformat": 4,
 "nbformat_minor": 2
}
